{
  "cells": [
    {
      "cell_type": "markdown",
      "metadata": {
        "id": "view-in-github",
        "colab_type": "text"
      },
      "source": [
        "<a href=\"https://colab.research.google.com/github/janicema0702/cityu-project/blob/main/adam_compiler_elderly_fall_detection_(one_hot_encoding).ipynb\" target=\"_parent\"><img src=\"https://colab.research.google.com/assets/colab-badge.svg\" alt=\"Open In Colab\"/></a>"
      ]
    },
    {
      "cell_type": "code",
      "execution_count": 1,
      "metadata": {
        "colab": {
          "base_uri": "https://localhost:8080/"
        },
        "id": "7lplPPCiZoDc",
        "outputId": "7277bd77-26c7-4ea7-f446-2cde2a53acf7"
      },
      "outputs": [
        {
          "output_type": "stream",
          "name": "stdout",
          "text": [
            "Num GPUs Available:  0\n",
            "Tensorflow version: 2.9.2\n",
            "Keras version: 2.9.0\n"
          ]
        }
      ],
      "source": [
        "import tensorflow as tf\n",
        "\n",
        "print(\"Num GPUs Available: \", len(tf.config.list_physical_devices('GPU')))\n",
        "print('Tensorflow version:',tf.__version__)\n",
        "import numpy as np\n",
        "import pandas as pd\n",
        "from matplotlib import pyplot as plt\n",
        "from pydrive.auth import GoogleAuth\n",
        "from pydrive.drive import GoogleDrive\n",
        "from google.colab import auth\n",
        "from oauth2client.client import GoogleCredentials\n",
        " \n",
        "\n",
        "import seaborn as sns\n",
        "plt.style.use('seaborn')\n",
        "\n",
        "import os\n",
        "print('Keras version:', tf.keras.__version__)"
      ]
    },
    {
      "cell_type": "code",
      "execution_count": 2,
      "metadata": {
        "id": "oLqT8jJbm90O"
      },
      "outputs": [],
      "source": [
        "\n",
        "# Authenticate and create the PyDrive client.\n",
        "auth.authenticate_user()\n",
        "gauth = GoogleAuth()\n",
        "gauth.credentials = GoogleCredentials.get_application_default()\n",
        "drive = GoogleDrive(gauth)"
      ]
    },
    {
      "cell_type": "code",
      "execution_count": 3,
      "metadata": {
        "colab": {
          "base_uri": "https://localhost:8080/"
        },
        "id": "Ev0SOO8snLVm",
        "outputId": "3f6ec3a2-860a-4ddd-c3d5-f22988b2ef34"
      },
      "outputs": [
        {
          "output_type": "stream",
          "name": "stdout",
          "text": [
            "         ADXL345_x  ADXL345_y  ADXL345_z  ITG3200_x  ITG3200_y  ITG3200_z  \\\n",
            "0                5       -234        -82         37          4         -7   \n",
            "1                2       -234        -87         35          4         -7   \n",
            "2                6       -234        -84         35          3         -7   \n",
            "3                5       -234        -85         34          4         -8   \n",
            "4                7       -237        -83         34          4         -7   \n",
            "...            ...        ...        ...        ...        ...        ...   \n",
            "2097145        261       -126        -39       -161        104        883   \n",
            "2097146        256       -125        -36       -166        122        894   \n",
            "2097147        251       -127        -37       -177        136        906   \n",
            "2097148        253       -131        -31       -185        142        925   \n",
            "2097149        251       -134        -36       -173        147        944   \n",
            "\n",
            "         MMA8451Q_x  MMA8451Q_y  MMA8451Q_z Situation  \n",
            "0                 9        -959        -319      Fall  \n",
            "1                 8        -964        -319      Fall  \n",
            "2                11        -962        -323      Fall  \n",
            "3                 7        -961        -323      Fall  \n",
            "4                 9        -959        -323      Fall  \n",
            "...             ...         ...         ...       ...  \n",
            "2097145         923        -462           4  Not Fall  \n",
            "2097146         903        -468           9  Not Fall  \n",
            "2097147         892        -466          21  Not Fall  \n",
            "2097148         874        -478          37  Not Fall  \n",
            "2097149         874        -491          20  Not Fall  \n",
            "\n",
            "[2097150 rows x 10 columns]\n"
          ]
        }
      ],
      "source": [
        "\n",
        "link = 'https://drive.google.com/file/d/1Eqhf818E-wUkrxfYnh6spB5XeyehlTwG/view'\n",
        " \n",
        "import pandas as pd\n",
        "from sklearn.tree import DecisionTreeClassifier\n",
        "import numpy as np\n",
        "\n",
        " \n",
        "# to get the id part of the file\n",
        "id = link.split(\"/\")[-2]\n",
        " \n",
        "downloaded = drive.CreateFile({'id':id})\n",
        "downloaded.GetContentFile('SisFall_dataset.csv') \n",
        " \n",
        "df = pd.read_csv('SisFall_dataset.csv')\n",
        "print(df)"
      ]
    },
    {
      "cell_type": "code",
      "execution_count": 4,
      "metadata": {
        "colab": {
          "base_uri": "https://localhost:8080/"
        },
        "id": "rIc2piaYkcr-",
        "outputId": "b32db536-f75e-4f30-ac2a-a173f4c3ce2e"
      },
      "outputs": [
        {
          "output_type": "execute_result",
          "data": {
            "text/plain": [
              "(2097150, 10)"
            ]
          },
          "metadata": {},
          "execution_count": 4
        }
      ],
      "source": [
        "df.shape"
      ]
    },
    {
      "cell_type": "code",
      "execution_count": 5,
      "metadata": {
        "colab": {
          "base_uri": "https://localhost:8080/",
          "height": 300
        },
        "id": "F_sytJeeoTo3",
        "outputId": "53033b1f-b74e-46ec-8f6d-ba10c52b27a6"
      },
      "outputs": [
        {
          "output_type": "execute_result",
          "data": {
            "text/plain": [
              "          ADXL345_x     ADXL345_y     ADXL345_z     ITG3200_x     ITG3200_y  \\\n",
              "count  2.097150e+06  2.097150e+06  2.097150e+06  2.097150e+06  2.097150e+06   \n",
              "mean   3.646227e+00 -1.685828e+02 -2.507207e+01 -1.834779e+01  2.309094e+01   \n",
              "std    1.110372e+02  1.561922e+02  1.316931e+02  5.462312e+02  5.085745e+02   \n",
              "min   -4.053000e+03 -2.852000e+03 -4.096000e+03 -3.230300e+04 -1.549100e+04   \n",
              "25%   -1.700000e+01 -2.560000e+02 -1.020000e+02 -7.300000e+01 -1.900000e+01   \n",
              "50%    1.000000e+01 -2.230000e+02 -3.300000e+01 -2.800000e+01  1.500000e+01   \n",
              "75%    3.400000e+01 -3.000000e+01  4.600000e+01  5.900000e+01  5.800000e+01   \n",
              "max    4.094000e+03  4.092000e+03  4.091000e+03  3.276700e+04  1.581900e+04   \n",
              "\n",
              "          ITG3200_z    MMA8451Q_x    MMA8451Q_y    MMA8451Q_z  \n",
              "count  2.097150e+06  2.097150e+06  2.097150e+06  2.097150e+06  \n",
              "mean  -3.905765e+00 -3.491114e+01 -6.590775e+02  3.627351e-01  \n",
              "std    4.069697e+02  4.345957e+02  6.095223e+02  5.229338e+02  \n",
              "min   -1.092600e+04 -8.192000e+03 -8.192000e+03 -8.192000e+03  \n",
              "25%   -2.400000e+01 -1.090000e+02 -9.960000e+02 -2.760000e+02  \n",
              "50%   -7.000000e+00 -1.000000e+00 -8.850000e+02 -2.600000e+01  \n",
              "75%    1.200000e+01  7.800000e+01 -1.120000e+02  2.840000e+02  \n",
              "max    1.249100e+04  8.191000e+03  8.191000e+03  8.191000e+03  "
            ],
            "text/html": [
              "\n",
              "  <div id=\"df-981dceee-10b2-401e-b0a7-1b9c81613391\">\n",
              "    <div class=\"colab-df-container\">\n",
              "      <div>\n",
              "<style scoped>\n",
              "    .dataframe tbody tr th:only-of-type {\n",
              "        vertical-align: middle;\n",
              "    }\n",
              "\n",
              "    .dataframe tbody tr th {\n",
              "        vertical-align: top;\n",
              "    }\n",
              "\n",
              "    .dataframe thead th {\n",
              "        text-align: right;\n",
              "    }\n",
              "</style>\n",
              "<table border=\"1\" class=\"dataframe\">\n",
              "  <thead>\n",
              "    <tr style=\"text-align: right;\">\n",
              "      <th></th>\n",
              "      <th>ADXL345_x</th>\n",
              "      <th>ADXL345_y</th>\n",
              "      <th>ADXL345_z</th>\n",
              "      <th>ITG3200_x</th>\n",
              "      <th>ITG3200_y</th>\n",
              "      <th>ITG3200_z</th>\n",
              "      <th>MMA8451Q_x</th>\n",
              "      <th>MMA8451Q_y</th>\n",
              "      <th>MMA8451Q_z</th>\n",
              "    </tr>\n",
              "  </thead>\n",
              "  <tbody>\n",
              "    <tr>\n",
              "      <th>count</th>\n",
              "      <td>2.097150e+06</td>\n",
              "      <td>2.097150e+06</td>\n",
              "      <td>2.097150e+06</td>\n",
              "      <td>2.097150e+06</td>\n",
              "      <td>2.097150e+06</td>\n",
              "      <td>2.097150e+06</td>\n",
              "      <td>2.097150e+06</td>\n",
              "      <td>2.097150e+06</td>\n",
              "      <td>2.097150e+06</td>\n",
              "    </tr>\n",
              "    <tr>\n",
              "      <th>mean</th>\n",
              "      <td>3.646227e+00</td>\n",
              "      <td>-1.685828e+02</td>\n",
              "      <td>-2.507207e+01</td>\n",
              "      <td>-1.834779e+01</td>\n",
              "      <td>2.309094e+01</td>\n",
              "      <td>-3.905765e+00</td>\n",
              "      <td>-3.491114e+01</td>\n",
              "      <td>-6.590775e+02</td>\n",
              "      <td>3.627351e-01</td>\n",
              "    </tr>\n",
              "    <tr>\n",
              "      <th>std</th>\n",
              "      <td>1.110372e+02</td>\n",
              "      <td>1.561922e+02</td>\n",
              "      <td>1.316931e+02</td>\n",
              "      <td>5.462312e+02</td>\n",
              "      <td>5.085745e+02</td>\n",
              "      <td>4.069697e+02</td>\n",
              "      <td>4.345957e+02</td>\n",
              "      <td>6.095223e+02</td>\n",
              "      <td>5.229338e+02</td>\n",
              "    </tr>\n",
              "    <tr>\n",
              "      <th>min</th>\n",
              "      <td>-4.053000e+03</td>\n",
              "      <td>-2.852000e+03</td>\n",
              "      <td>-4.096000e+03</td>\n",
              "      <td>-3.230300e+04</td>\n",
              "      <td>-1.549100e+04</td>\n",
              "      <td>-1.092600e+04</td>\n",
              "      <td>-8.192000e+03</td>\n",
              "      <td>-8.192000e+03</td>\n",
              "      <td>-8.192000e+03</td>\n",
              "    </tr>\n",
              "    <tr>\n",
              "      <th>25%</th>\n",
              "      <td>-1.700000e+01</td>\n",
              "      <td>-2.560000e+02</td>\n",
              "      <td>-1.020000e+02</td>\n",
              "      <td>-7.300000e+01</td>\n",
              "      <td>-1.900000e+01</td>\n",
              "      <td>-2.400000e+01</td>\n",
              "      <td>-1.090000e+02</td>\n",
              "      <td>-9.960000e+02</td>\n",
              "      <td>-2.760000e+02</td>\n",
              "    </tr>\n",
              "    <tr>\n",
              "      <th>50%</th>\n",
              "      <td>1.000000e+01</td>\n",
              "      <td>-2.230000e+02</td>\n",
              "      <td>-3.300000e+01</td>\n",
              "      <td>-2.800000e+01</td>\n",
              "      <td>1.500000e+01</td>\n",
              "      <td>-7.000000e+00</td>\n",
              "      <td>-1.000000e+00</td>\n",
              "      <td>-8.850000e+02</td>\n",
              "      <td>-2.600000e+01</td>\n",
              "    </tr>\n",
              "    <tr>\n",
              "      <th>75%</th>\n",
              "      <td>3.400000e+01</td>\n",
              "      <td>-3.000000e+01</td>\n",
              "      <td>4.600000e+01</td>\n",
              "      <td>5.900000e+01</td>\n",
              "      <td>5.800000e+01</td>\n",
              "      <td>1.200000e+01</td>\n",
              "      <td>7.800000e+01</td>\n",
              "      <td>-1.120000e+02</td>\n",
              "      <td>2.840000e+02</td>\n",
              "    </tr>\n",
              "    <tr>\n",
              "      <th>max</th>\n",
              "      <td>4.094000e+03</td>\n",
              "      <td>4.092000e+03</td>\n",
              "      <td>4.091000e+03</td>\n",
              "      <td>3.276700e+04</td>\n",
              "      <td>1.581900e+04</td>\n",
              "      <td>1.249100e+04</td>\n",
              "      <td>8.191000e+03</td>\n",
              "      <td>8.191000e+03</td>\n",
              "      <td>8.191000e+03</td>\n",
              "    </tr>\n",
              "  </tbody>\n",
              "</table>\n",
              "</div>\n",
              "      <button class=\"colab-df-convert\" onclick=\"convertToInteractive('df-981dceee-10b2-401e-b0a7-1b9c81613391')\"\n",
              "              title=\"Convert this dataframe to an interactive table.\"\n",
              "              style=\"display:none;\">\n",
              "        \n",
              "  <svg xmlns=\"http://www.w3.org/2000/svg\" height=\"24px\"viewBox=\"0 0 24 24\"\n",
              "       width=\"24px\">\n",
              "    <path d=\"M0 0h24v24H0V0z\" fill=\"none\"/>\n",
              "    <path d=\"M18.56 5.44l.94 2.06.94-2.06 2.06-.94-2.06-.94-.94-2.06-.94 2.06-2.06.94zm-11 1L8.5 8.5l.94-2.06 2.06-.94-2.06-.94L8.5 2.5l-.94 2.06-2.06.94zm10 10l.94 2.06.94-2.06 2.06-.94-2.06-.94-.94-2.06-.94 2.06-2.06.94z\"/><path d=\"M17.41 7.96l-1.37-1.37c-.4-.4-.92-.59-1.43-.59-.52 0-1.04.2-1.43.59L10.3 9.45l-7.72 7.72c-.78.78-.78 2.05 0 2.83L4 21.41c.39.39.9.59 1.41.59.51 0 1.02-.2 1.41-.59l7.78-7.78 2.81-2.81c.8-.78.8-2.07 0-2.86zM5.41 20L4 18.59l7.72-7.72 1.47 1.35L5.41 20z\"/>\n",
              "  </svg>\n",
              "      </button>\n",
              "      \n",
              "  <style>\n",
              "    .colab-df-container {\n",
              "      display:flex;\n",
              "      flex-wrap:wrap;\n",
              "      gap: 12px;\n",
              "    }\n",
              "\n",
              "    .colab-df-convert {\n",
              "      background-color: #E8F0FE;\n",
              "      border: none;\n",
              "      border-radius: 50%;\n",
              "      cursor: pointer;\n",
              "      display: none;\n",
              "      fill: #1967D2;\n",
              "      height: 32px;\n",
              "      padding: 0 0 0 0;\n",
              "      width: 32px;\n",
              "    }\n",
              "\n",
              "    .colab-df-convert:hover {\n",
              "      background-color: #E2EBFA;\n",
              "      box-shadow: 0px 1px 2px rgba(60, 64, 67, 0.3), 0px 1px 3px 1px rgba(60, 64, 67, 0.15);\n",
              "      fill: #174EA6;\n",
              "    }\n",
              "\n",
              "    [theme=dark] .colab-df-convert {\n",
              "      background-color: #3B4455;\n",
              "      fill: #D2E3FC;\n",
              "    }\n",
              "\n",
              "    [theme=dark] .colab-df-convert:hover {\n",
              "      background-color: #434B5C;\n",
              "      box-shadow: 0px 1px 3px 1px rgba(0, 0, 0, 0.15);\n",
              "      filter: drop-shadow(0px 1px 2px rgba(0, 0, 0, 0.3));\n",
              "      fill: #FFFFFF;\n",
              "    }\n",
              "  </style>\n",
              "\n",
              "      <script>\n",
              "        const buttonEl =\n",
              "          document.querySelector('#df-981dceee-10b2-401e-b0a7-1b9c81613391 button.colab-df-convert');\n",
              "        buttonEl.style.display =\n",
              "          google.colab.kernel.accessAllowed ? 'block' : 'none';\n",
              "\n",
              "        async function convertToInteractive(key) {\n",
              "          const element = document.querySelector('#df-981dceee-10b2-401e-b0a7-1b9c81613391');\n",
              "          const dataTable =\n",
              "            await google.colab.kernel.invokeFunction('convertToInteractive',\n",
              "                                                     [key], {});\n",
              "          if (!dataTable) return;\n",
              "\n",
              "          const docLinkHtml = 'Like what you see? Visit the ' +\n",
              "            '<a target=\"_blank\" href=https://colab.research.google.com/notebooks/data_table.ipynb>data table notebook</a>'\n",
              "            + ' to learn more about interactive tables.';\n",
              "          element.innerHTML = '';\n",
              "          dataTable['output_type'] = 'display_data';\n",
              "          await google.colab.output.renderOutput(dataTable, element);\n",
              "          const docLink = document.createElement('div');\n",
              "          docLink.innerHTML = docLinkHtml;\n",
              "          element.appendChild(docLink);\n",
              "        }\n",
              "      </script>\n",
              "    </div>\n",
              "  </div>\n",
              "  "
            ]
          },
          "metadata": {},
          "execution_count": 5
        }
      ],
      "source": [
        "df.describe()"
      ]
    },
    {
      "cell_type": "code",
      "execution_count": 6,
      "metadata": {
        "id": "SQ0lG1pssrvB"
      },
      "outputs": [],
      "source": [
        "from sklearn.model_selection import train_test_split\n",
        "from sklearn.metrics import accuracy_score\n",
        "from sklearn import tree"
      ]
    },
    {
      "cell_type": "code",
      "execution_count": 7,
      "metadata": {
        "colab": {
          "base_uri": "https://localhost:8080/",
          "height": 424
        },
        "id": "ZPvFEl2hpXrP",
        "outputId": "fd9f6d50-69a6-4a2c-bf41-a910d65f3950"
      },
      "outputs": [
        {
          "output_type": "execute_result",
          "data": {
            "text/plain": [
              "         ADXL345_x  ADXL345_y  ADXL345_z  ITG3200_x  ITG3200_y  ITG3200_z\n",
              "0                5       -234        -82         37          4         -7\n",
              "1                2       -234        -87         35          4         -7\n",
              "2                6       -234        -84         35          3         -7\n",
              "3                5       -234        -85         34          4         -8\n",
              "4                7       -237        -83         34          4         -7\n",
              "...            ...        ...        ...        ...        ...        ...\n",
              "2097145        261       -126        -39       -161        104        883\n",
              "2097146        256       -125        -36       -166        122        894\n",
              "2097147        251       -127        -37       -177        136        906\n",
              "2097148        253       -131        -31       -185        142        925\n",
              "2097149        251       -134        -36       -173        147        944\n",
              "\n",
              "[2097150 rows x 6 columns]"
            ],
            "text/html": [
              "\n",
              "  <div id=\"df-e3e75e23-a01a-4756-992b-3f6551909b3d\">\n",
              "    <div class=\"colab-df-container\">\n",
              "      <div>\n",
              "<style scoped>\n",
              "    .dataframe tbody tr th:only-of-type {\n",
              "        vertical-align: middle;\n",
              "    }\n",
              "\n",
              "    .dataframe tbody tr th {\n",
              "        vertical-align: top;\n",
              "    }\n",
              "\n",
              "    .dataframe thead th {\n",
              "        text-align: right;\n",
              "    }\n",
              "</style>\n",
              "<table border=\"1\" class=\"dataframe\">\n",
              "  <thead>\n",
              "    <tr style=\"text-align: right;\">\n",
              "      <th></th>\n",
              "      <th>ADXL345_x</th>\n",
              "      <th>ADXL345_y</th>\n",
              "      <th>ADXL345_z</th>\n",
              "      <th>ITG3200_x</th>\n",
              "      <th>ITG3200_y</th>\n",
              "      <th>ITG3200_z</th>\n",
              "    </tr>\n",
              "  </thead>\n",
              "  <tbody>\n",
              "    <tr>\n",
              "      <th>0</th>\n",
              "      <td>5</td>\n",
              "      <td>-234</td>\n",
              "      <td>-82</td>\n",
              "      <td>37</td>\n",
              "      <td>4</td>\n",
              "      <td>-7</td>\n",
              "    </tr>\n",
              "    <tr>\n",
              "      <th>1</th>\n",
              "      <td>2</td>\n",
              "      <td>-234</td>\n",
              "      <td>-87</td>\n",
              "      <td>35</td>\n",
              "      <td>4</td>\n",
              "      <td>-7</td>\n",
              "    </tr>\n",
              "    <tr>\n",
              "      <th>2</th>\n",
              "      <td>6</td>\n",
              "      <td>-234</td>\n",
              "      <td>-84</td>\n",
              "      <td>35</td>\n",
              "      <td>3</td>\n",
              "      <td>-7</td>\n",
              "    </tr>\n",
              "    <tr>\n",
              "      <th>3</th>\n",
              "      <td>5</td>\n",
              "      <td>-234</td>\n",
              "      <td>-85</td>\n",
              "      <td>34</td>\n",
              "      <td>4</td>\n",
              "      <td>-8</td>\n",
              "    </tr>\n",
              "    <tr>\n",
              "      <th>4</th>\n",
              "      <td>7</td>\n",
              "      <td>-237</td>\n",
              "      <td>-83</td>\n",
              "      <td>34</td>\n",
              "      <td>4</td>\n",
              "      <td>-7</td>\n",
              "    </tr>\n",
              "    <tr>\n",
              "      <th>...</th>\n",
              "      <td>...</td>\n",
              "      <td>...</td>\n",
              "      <td>...</td>\n",
              "      <td>...</td>\n",
              "      <td>...</td>\n",
              "      <td>...</td>\n",
              "    </tr>\n",
              "    <tr>\n",
              "      <th>2097145</th>\n",
              "      <td>261</td>\n",
              "      <td>-126</td>\n",
              "      <td>-39</td>\n",
              "      <td>-161</td>\n",
              "      <td>104</td>\n",
              "      <td>883</td>\n",
              "    </tr>\n",
              "    <tr>\n",
              "      <th>2097146</th>\n",
              "      <td>256</td>\n",
              "      <td>-125</td>\n",
              "      <td>-36</td>\n",
              "      <td>-166</td>\n",
              "      <td>122</td>\n",
              "      <td>894</td>\n",
              "    </tr>\n",
              "    <tr>\n",
              "      <th>2097147</th>\n",
              "      <td>251</td>\n",
              "      <td>-127</td>\n",
              "      <td>-37</td>\n",
              "      <td>-177</td>\n",
              "      <td>136</td>\n",
              "      <td>906</td>\n",
              "    </tr>\n",
              "    <tr>\n",
              "      <th>2097148</th>\n",
              "      <td>253</td>\n",
              "      <td>-131</td>\n",
              "      <td>-31</td>\n",
              "      <td>-185</td>\n",
              "      <td>142</td>\n",
              "      <td>925</td>\n",
              "    </tr>\n",
              "    <tr>\n",
              "      <th>2097149</th>\n",
              "      <td>251</td>\n",
              "      <td>-134</td>\n",
              "      <td>-36</td>\n",
              "      <td>-173</td>\n",
              "      <td>147</td>\n",
              "      <td>944</td>\n",
              "    </tr>\n",
              "  </tbody>\n",
              "</table>\n",
              "<p>2097150 rows × 6 columns</p>\n",
              "</div>\n",
              "      <button class=\"colab-df-convert\" onclick=\"convertToInteractive('df-e3e75e23-a01a-4756-992b-3f6551909b3d')\"\n",
              "              title=\"Convert this dataframe to an interactive table.\"\n",
              "              style=\"display:none;\">\n",
              "        \n",
              "  <svg xmlns=\"http://www.w3.org/2000/svg\" height=\"24px\"viewBox=\"0 0 24 24\"\n",
              "       width=\"24px\">\n",
              "    <path d=\"M0 0h24v24H0V0z\" fill=\"none\"/>\n",
              "    <path d=\"M18.56 5.44l.94 2.06.94-2.06 2.06-.94-2.06-.94-.94-2.06-.94 2.06-2.06.94zm-11 1L8.5 8.5l.94-2.06 2.06-.94-2.06-.94L8.5 2.5l-.94 2.06-2.06.94zm10 10l.94 2.06.94-2.06 2.06-.94-2.06-.94-.94-2.06-.94 2.06-2.06.94z\"/><path d=\"M17.41 7.96l-1.37-1.37c-.4-.4-.92-.59-1.43-.59-.52 0-1.04.2-1.43.59L10.3 9.45l-7.72 7.72c-.78.78-.78 2.05 0 2.83L4 21.41c.39.39.9.59 1.41.59.51 0 1.02-.2 1.41-.59l7.78-7.78 2.81-2.81c.8-.78.8-2.07 0-2.86zM5.41 20L4 18.59l7.72-7.72 1.47 1.35L5.41 20z\"/>\n",
              "  </svg>\n",
              "      </button>\n",
              "      \n",
              "  <style>\n",
              "    .colab-df-container {\n",
              "      display:flex;\n",
              "      flex-wrap:wrap;\n",
              "      gap: 12px;\n",
              "    }\n",
              "\n",
              "    .colab-df-convert {\n",
              "      background-color: #E8F0FE;\n",
              "      border: none;\n",
              "      border-radius: 50%;\n",
              "      cursor: pointer;\n",
              "      display: none;\n",
              "      fill: #1967D2;\n",
              "      height: 32px;\n",
              "      padding: 0 0 0 0;\n",
              "      width: 32px;\n",
              "    }\n",
              "\n",
              "    .colab-df-convert:hover {\n",
              "      background-color: #E2EBFA;\n",
              "      box-shadow: 0px 1px 2px rgba(60, 64, 67, 0.3), 0px 1px 3px 1px rgba(60, 64, 67, 0.15);\n",
              "      fill: #174EA6;\n",
              "    }\n",
              "\n",
              "    [theme=dark] .colab-df-convert {\n",
              "      background-color: #3B4455;\n",
              "      fill: #D2E3FC;\n",
              "    }\n",
              "\n",
              "    [theme=dark] .colab-df-convert:hover {\n",
              "      background-color: #434B5C;\n",
              "      box-shadow: 0px 1px 3px 1px rgba(0, 0, 0, 0.15);\n",
              "      filter: drop-shadow(0px 1px 2px rgba(0, 0, 0, 0.3));\n",
              "      fill: #FFFFFF;\n",
              "    }\n",
              "  </style>\n",
              "\n",
              "      <script>\n",
              "        const buttonEl =\n",
              "          document.querySelector('#df-e3e75e23-a01a-4756-992b-3f6551909b3d button.colab-df-convert');\n",
              "        buttonEl.style.display =\n",
              "          google.colab.kernel.accessAllowed ? 'block' : 'none';\n",
              "\n",
              "        async function convertToInteractive(key) {\n",
              "          const element = document.querySelector('#df-e3e75e23-a01a-4756-992b-3f6551909b3d');\n",
              "          const dataTable =\n",
              "            await google.colab.kernel.invokeFunction('convertToInteractive',\n",
              "                                                     [key], {});\n",
              "          if (!dataTable) return;\n",
              "\n",
              "          const docLinkHtml = 'Like what you see? Visit the ' +\n",
              "            '<a target=\"_blank\" href=https://colab.research.google.com/notebooks/data_table.ipynb>data table notebook</a>'\n",
              "            + ' to learn more about interactive tables.';\n",
              "          element.innerHTML = '';\n",
              "          dataTable['output_type'] = 'display_data';\n",
              "          await google.colab.output.renderOutput(dataTable, element);\n",
              "          const docLink = document.createElement('div');\n",
              "          docLink.innerHTML = docLinkHtml;\n",
              "          element.appendChild(docLink);\n",
              "        }\n",
              "      </script>\n",
              "    </div>\n",
              "  </div>\n",
              "  "
            ]
          },
          "metadata": {},
          "execution_count": 7
        }
      ],
      "source": [
        "inputset = df.drop(columns=['MMA8451Q_x','MMA8451Q_y','MMA8451Q_z','Situation'])\n",
        "inputset = inputset\n",
        "inputset"
      ]
    },
    {
      "cell_type": "code",
      "execution_count": null,
      "metadata": {
        "id": "-aeA-Dm3rCb_"
      },
      "outputs": [],
      "source": [
        "oldoutputset = df['Situation']\n",
        "outputset =[]\n",
        "for i in oldoutputset:\n",
        "  if i == 'Fall':\n",
        "      outputset.append([1])\n",
        "  else:\n",
        "      outputset.append([0])\n",
        "\n",
        "\n",
        "outputset = outputset\n",
        "outputset"
      ]
    },
    {
      "cell_type": "code",
      "execution_count": 9,
      "metadata": {
        "colab": {
          "base_uri": "https://localhost:8080/",
          "height": 53
        },
        "id": "HsjZdxu1rHLg",
        "outputId": "75b0ec6f-7e66-468c-ce43-91821c6135b3"
      },
      "outputs": [
        {
          "output_type": "execute_result",
          "data": {
            "text/plain": [
              "\"tree.export_graphviz(model, out_file = 'determine.dot',\\n                    feature_names = ['x','y','z'],\\n                    class_names = ['fall', 'safe'],\\n                    label='all',\\n                    rounded = True,\\n                    filled = True)\""
            ],
            "application/vnd.google.colaboratory.intrinsic+json": {
              "type": "string"
            }
          },
          "metadata": {},
          "execution_count": 9
        }
      ],
      "source": [
        "inputset_train, inputset_test, outputset_train, outputset_test = train_test_split(inputset, outputset, test_size = 0.15)\n",
        "\n",
        "\n",
        "#model = DecisionTreeClassifier()\n",
        "#model.fit(inputset_train, outputset_train)\n",
        "\n",
        "'''tree.export_graphviz(model, out_file = 'determine.dot',\n",
        "                    feature_names = ['x','y','z'],\n",
        "                    class_names = ['fall', 'safe'],\n",
        "                    label='all',\n",
        "                    rounded = True,\n",
        "                    filled = True)'''\n",
        "\n"
      ]
    },
    {
      "cell_type": "code",
      "execution_count": 10,
      "metadata": {
        "colab": {
          "base_uri": "https://localhost:8080/"
        },
        "id": "_6zZNnXTR9y3",
        "outputId": "0e7080ac-e0ba-4f89-cecd-90415826084b"
      },
      "outputs": [
        {
          "output_type": "execute_result",
          "data": {
            "text/plain": [
              "((1782577, 6), (1782577, 1))"
            ]
          },
          "metadata": {},
          "execution_count": 10
        }
      ],
      "source": [
        "inputset_train = np.array(inputset_train)\n",
        "outputset_train = np.array(outputset_train)\n",
        "inputset_train.shape, outputset_train .shape"
      ]
    },
    {
      "cell_type": "code",
      "execution_count": 11,
      "metadata": {
        "id": "4fXbezlBqbkE"
      },
      "outputs": [],
      "source": [
        "from tensorflow import keras\n",
        "from tensorflow.keras import layers"
      ]
    },
    {
      "cell_type": "code",
      "execution_count": 12,
      "metadata": {
        "id": "BSvMV_kQqt17"
      },
      "outputs": [],
      "source": [
        "from tensorflow.python.ops.gen_batch_ops import batch\n",
        "from tensorflow.keras.callbacks import EarlyStopping\n",
        "\n",
        "batch_size = 128\n",
        "epochs = 100\n",
        "\n",
        "#Early Stopping callback function\n",
        "es = EarlyStopping(\n",
        "    monitor = 'val_accuracy',\n",
        "    min_delta = 0,\n",
        "    patience = 5,\n",
        "    verbose = 1,\n",
        "    mode = 'max',\n",
        "    restore_best_weights = True\n",
        ")"
      ]
    },
    {
      "cell_type": "code",
      "execution_count": 13,
      "metadata": {
        "id": "Sci8E0Egko6v"
      },
      "outputs": [],
      "source": [
        "num_classes = 2\n",
        "train_one_hot = tf.keras.utils.to_categorical(outputset_train, num_classes)\n",
        "test_one_hot = tf.keras.utils.to_categorical(outputset_test, num_classes)"
      ]
    },
    {
      "cell_type": "code",
      "execution_count": 14,
      "metadata": {
        "id": "uW99VPsOmMKO"
      },
      "outputs": [],
      "source": [
        "from tensorflow import keras"
      ]
    },
    {
      "cell_type": "code",
      "execution_count": 15,
      "metadata": {
        "id": "FGUk7pOLjsSi"
      },
      "outputs": [],
      "source": [
        "import tensorflow\n",
        "from tensorflow.keras.layers import * \n",
        "from tensorflow.keras.models import Model\n",
        "from tensorflow.keras import regularizers\n",
        "\n",
        "inputshape = [6]\n",
        "\n",
        "inputs = tensorflow.keras.Input(shape=inputshape)\n",
        "x = Dense(units = 100, activation = 'relu')(inputs)\n",
        "x = Dropout(0.2)(x)\n",
        "x = Dense(64, activation = 'relu', kernel_regularizer = regularizers.l2(0.1))(x)\n",
        "output = Dense(units = num_classes, activation = 'softmax')(x)\n",
        "\n"
      ]
    },
    {
      "cell_type": "code",
      "execution_count": 16,
      "metadata": {
        "id": "z37IiLOchrB2"
      },
      "outputs": [],
      "source": [
        "model = tf.keras.Model(\n",
        "    inputs = inputs, outputs = output,\n",
        "    name = 'dnn_fall_model'\n",
        ")"
      ]
    },
    {
      "cell_type": "code",
      "execution_count": 17,
      "metadata": {
        "colab": {
          "base_uri": "https://localhost:8080/"
        },
        "id": "BOCj6pkpijas",
        "outputId": "9d017f3e-51f0-4853-f43e-88ef306a8ce5"
      },
      "outputs": [
        {
          "output_type": "stream",
          "name": "stdout",
          "text": [
            "Model: \"dnn_fall_model\"\n",
            "_________________________________________________________________\n",
            " Layer (type)                Output Shape              Param #   \n",
            "=================================================================\n",
            " input_1 (InputLayer)        [(None, 6)]               0         \n",
            "                                                                 \n",
            " dense (Dense)               (None, 100)               700       \n",
            "                                                                 \n",
            " dropout (Dropout)           (None, 100)               0         \n",
            "                                                                 \n",
            " dense_1 (Dense)             (None, 64)                6464      \n",
            "                                                                 \n",
            " dense_2 (Dense)             (None, 2)                 130       \n",
            "                                                                 \n",
            "=================================================================\n",
            "Total params: 7,294\n",
            "Trainable params: 7,294\n",
            "Non-trainable params: 0\n",
            "_________________________________________________________________\n"
          ]
        }
      ],
      "source": [
        "optimizer = tf.keras.optimizers.Adam(\n",
        "    learning_rate = 0.001,\n",
        "    beta_1 = 0.9,\n",
        "    beta_2 = 0.999,\n",
        "    epsilon = 1e-07,\n",
        "    name = 'Adam'\n",
        "\n",
        ")\n",
        "\n",
        "model.compile(\n",
        "    loss = 'categorical_crossentropy',\n",
        "    optimizer = optimizer,\n",
        "    metrics = ['accuracy'],\n",
        "\n",
        ")\n",
        "\n",
        "model.summary()"
      ]
    },
    {
      "cell_type": "code",
      "execution_count": 18,
      "metadata": {
        "colab": {
          "base_uri": "https://localhost:8080/",
          "height": 533
        },
        "id": "AAMgxFpQpCji",
        "outputId": "7de6eb66-52f8-488c-c86d-8da65e9f8478"
      },
      "outputs": [
        {
          "output_type": "execute_result",
          "data": {
            "image/png": "[encoded data removed]",
            "text/plain": [
              "<IPython.core.display.Image object>"
            ]
          },
          "metadata": {},
          "execution_count": 18
        }
      ],
      "source": [
        "tf.keras.utils.plot_model(model, 'dnn_model.png', show_shapes = True)"
      ]
    },
    {
      "cell_type": "code",
      "execution_count": 19,
      "metadata": {
        "id": "lK2eCypVaItN"
      },
      "outputs": [],
      "source": [
        "from tensorflow.python.ops.gen_batch_ops import batch\n",
        "from tensorflow.keras.callbacks import EarlyStopping\n",
        "\n",
        "batch_size = 128\n",
        "epochs = 100\n",
        "\n",
        "#Early Stopping callback function\n",
        "es = EarlyStopping(\n",
        "    monitor = 'val_accuracy',\n",
        "    min_delta = 0,\n",
        "    patience = 5,\n",
        "    verbose = 1,\n",
        "    mode = 'max',\n",
        "    restore_best_weights = True\n",
        ")"
      ]
    },
    {
      "cell_type": "code",
      "execution_count": 20,
      "metadata": {
        "colab": {
          "base_uri": "https://localhost:8080/"
        },
        "id": "-jfBognjqjIY",
        "outputId": "26b5fa94-03f1-43c8-81b3-fcdd2378de01"
      },
      "outputs": [
        {
          "output_type": "stream",
          "name": "stdout",
          "text": [
            "Epoch 1/100\n",
            "9749/9749 [==============================] - 32s 3ms/step - loss: 1.2315 - accuracy: 0.7157 - val_loss: 0.5064 - val_accuracy: 0.7329\n",
            "Epoch 2/100\n",
            "9749/9749 [==============================] - 36s 4ms/step - loss: 0.5049 - accuracy: 0.7441 - val_loss: 0.4916 - val_accuracy: 0.7502\n",
            "Epoch 3/100\n",
            "9749/9749 [==============================] - 36s 4ms/step - loss: 0.4977 - accuracy: 0.7508 - val_loss: 0.4820 - val_accuracy: 0.7589\n",
            "Epoch 4/100\n",
            "9749/9749 [==============================] - 30s 3ms/step - loss: 0.4937 - accuracy: 0.7542 - val_loss: 0.4801 - val_accuracy: 0.7604\n",
            "Epoch 5/100\n",
            "9749/9749 [==============================] - 36s 4ms/step - loss: 0.4916 - accuracy: 0.7559 - val_loss: 0.4817 - val_accuracy: 0.7641\n",
            "Epoch 6/100\n",
            "9749/9749 [==============================] - 36s 4ms/step - loss: 0.4913 - accuracy: 0.7565 - val_loss: 0.4783 - val_accuracy: 0.7638\n",
            "Epoch 7/100\n",
            "9749/9749 [==============================] - 31s 3ms/step - loss: 0.4908 - accuracy: 0.7577 - val_loss: 0.4887 - val_accuracy: 0.7630\n",
            "Epoch 8/100\n",
            "9749/9749 [==============================] - 35s 4ms/step - loss: 0.4905 - accuracy: 0.7579 - val_loss: 0.4802 - val_accuracy: 0.7654\n",
            "Epoch 9/100\n",
            "9749/9749 [==============================] - 36s 4ms/step - loss: 0.4898 - accuracy: 0.7577 - val_loss: 0.4875 - val_accuracy: 0.7614\n",
            "Epoch 10/100\n",
            "9749/9749 [==============================] - 40s 4ms/step - loss: 0.4903 - accuracy: 0.7577 - val_loss: 0.4765 - val_accuracy: 0.7647\n",
            "Epoch 11/100\n",
            "9749/9749 [==============================] - 31s 3ms/step - loss: 0.4903 - accuracy: 0.7582 - val_loss: 0.4764 - val_accuracy: 0.7625\n",
            "Epoch 12/100\n",
            "9749/9749 [==============================] - 36s 4ms/step - loss: 0.4897 - accuracy: 0.7585 - val_loss: 0.4843 - val_accuracy: 0.7599\n",
            "Epoch 13/100\n",
            "9749/9749 [==============================] - 36s 4ms/step - loss: 0.4894 - accuracy: 0.7588 - val_loss: 0.4722 - val_accuracy: 0.7671\n",
            "Epoch 14/100\n",
            "9749/9749 [==============================] - 31s 3ms/step - loss: 0.4891 - accuracy: 0.7588 - val_loss: 0.4794 - val_accuracy: 0.7646\n",
            "Epoch 15/100\n",
            "9749/9749 [==============================] - 31s 3ms/step - loss: 0.4896 - accuracy: 0.7574 - val_loss: 0.4787 - val_accuracy: 0.7635\n",
            "Epoch 16/100\n",
            "9749/9749 [==============================] - 31s 3ms/step - loss: 0.4888 - accuracy: 0.7582 - val_loss: 0.4770 - val_accuracy: 0.7654\n",
            "Epoch 17/100\n",
            "9749/9749 [==============================] - 31s 3ms/step - loss: 0.4890 - accuracy: 0.7578 - val_loss: 0.4777 - val_accuracy: 0.7597\n",
            "Epoch 18/100\n",
            "9728/9749 [============================>.] - ETA: 0s - loss: 0.4876 - accuracy: 0.7584Restoring model weights from the end of the best epoch: 13.\n",
            "9749/9749 [==============================] - 31s 3ms/step - loss: 0.4876 - accuracy: 0.7584 - val_loss: 0.4745 - val_accuracy: 0.7634\n",
            "Epoch 18: early stopping\n"
          ]
        }
      ],
      "source": [
        "history = model.fit( inputset_train, train_one_hot, epochs = epochs, batch_size = batch_size, \n",
        "                    validation_split = 0.3, callbacks = [es])"
      ]
    },
    {
      "cell_type": "code",
      "execution_count": 39,
      "metadata": {
        "id": "NfoYdLTX2sXC",
        "colab": {
          "base_uri": "https://localhost:8080/"
        },
        "outputId": "7df8e2ed-b923-456c-c41c-84af0eda89b9"
      },
      "outputs": [
        {
          "output_type": "execute_result",
          "data": {
            "text/plain": [
              "{'loss': [1.2314982414245605,\n",
              "  0.5049169659614563,\n",
              "  0.4976966083049774,\n",
              "  0.4936895966529846,\n",
              "  0.4916315972805023,\n",
              "  0.4913026988506317,\n",
              "  0.49078431725502014,\n",
              "  0.4904865324497223,\n",
              "  0.4898087978363037,\n",
              "  0.4902983009815216,\n",
              "  0.49025851488113403,\n",
              "  0.489658921957016,\n",
              "  0.48936936259269714,\n",
              "  0.48907554149627686,\n",
              "  0.48962461948394775,\n",
              "  0.4888324737548828,\n",
              "  0.4890235960483551,\n",
              "  0.4876485764980316],\n",
              " 'accuracy': [0.7156947255134583,\n",
              "  0.7440701723098755,\n",
              "  0.7508100271224976,\n",
              "  0.7541775703430176,\n",
              "  0.7559189796447754,\n",
              "  0.756529688835144,\n",
              "  0.7577061653137207,\n",
              "  0.7578704357147217,\n",
              "  0.7577253580093384,\n",
              "  0.7577294111251831,\n",
              "  0.7582062482833862,\n",
              "  0.7585179805755615,\n",
              "  0.7587712407112122,\n",
              "  0.7588056921958923,\n",
              "  0.7574473023414612,\n",
              "  0.7582334876060486,\n",
              "  0.7578071355819702,\n",
              "  0.7584226131439209],\n",
              " 'val_loss': [0.5064312219619751,\n",
              "  0.4916495680809021,\n",
              "  0.4819593131542206,\n",
              "  0.48006027936935425,\n",
              "  0.4816536009311676,\n",
              "  0.4782716631889343,\n",
              "  0.4886818826198578,\n",
              "  0.4802098274230957,\n",
              "  0.4874594807624817,\n",
              "  0.4764898717403412,\n",
              "  0.47638729214668274,\n",
              "  0.4842761754989624,\n",
              "  0.4722045958042145,\n",
              "  0.4793502986431122,\n",
              "  0.4787352681159973,\n",
              "  0.4770202338695526,\n",
              "  0.47768470644950867,\n",
              "  0.4745350182056427],\n",
              " 'val_accuracy': [0.7328609824180603,\n",
              "  0.7502458691596985,\n",
              "  0.7589150071144104,\n",
              "  0.7604259252548218,\n",
              "  0.7641003727912903,\n",
              "  0.7638329267501831,\n",
              "  0.7630176544189453,\n",
              "  0.765403687953949,\n",
              "  0.7614038586616516,\n",
              "  0.7647342681884766,\n",
              "  0.7625258564949036,\n",
              "  0.7598555684089661,\n",
              "  0.7670847773551941,\n",
              "  0.7646482586860657,\n",
              "  0.7635132074356079,\n",
              "  0.7653663158416748,\n",
              "  0.7597284317016602,\n",
              "  0.7634178400039673]}"
            ]
          },
          "metadata": {},
          "execution_count": 39
        }
      ],
      "source": [
        "history.history"
      ]
    },
    {
      "cell_type": "code",
      "execution_count": 28,
      "metadata": {
        "colab": {
          "base_uri": "https://localhost:8080/"
        },
        "id": "ZzHhGJgmRAF9",
        "outputId": "ef5e2da9-63b5-4c7c-cabf-7f28e99ebfbb"
      },
      "outputs": [
        {
          "output_type": "stream",
          "name": "stdout",
          "text": [
            "9831/9831 [==============================] - 17s 2ms/step - loss: 0.4729 - accuracy: 0.7662\n",
            "loss:  0.4729\n",
            "accuracy:  0.7662\n"
          ]
        }
      ],
      "source": [
        "scores = model.evaluate(inputset_test, test_one_hot, verbose = 1)\n",
        "names = model.metrics_names\n",
        "\n",
        "for i in range(len(scores)):\n",
        "  print(f'{names[i]}: {scores[i]: .4f}')"
      ]
    },
    {
      "cell_type": "code",
      "source": [
        "model.predict(inputset_test)"
      ],
      "metadata": {
        "colab": {
          "base_uri": "https://localhost:8080/"
        },
        "id": "4RMDrq_xJU04",
        "outputId": "d0839fb8-4d45-47a7-bdfb-d1bfab2c255a"
      },
      "execution_count": 34,
      "outputs": [
        {
          "output_type": "stream",
          "name": "stdout",
          "text": [
            "9831/9831 [==============================] - 15s 2ms/step\n"
          ]
        },
        {
          "output_type": "execute_result",
          "data": {
            "text/plain": [
              "array([[0.6369807 , 0.36301923],\n",
              "       [0.6864997 , 0.31350034],\n",
              "       [0.72852015, 0.2714798 ],\n",
              "       ...,\n",
              "       [0.0020562 , 0.9979438 ],\n",
              "       [0.8178799 , 0.18212007],\n",
              "       [0.7088494 , 0.2911506 ]], dtype=float32)"
            ]
          },
          "metadata": {},
          "execution_count": 34
        }
      ]
    },
    {
      "cell_type": "code",
      "source": [
        "res = pd.DataFrame(history.history)\n",
        "res[['loss', 'val_loss']].plot()"
      ],
      "metadata": {
        "colab": {
          "base_uri": "https://localhost:8080/",
          "height": 364
        },
        "id": "LTuY_aWIMNTY",
        "outputId": "ffac3e5c-d5e0-415b-c823-4b4c3544f302"
      },
      "execution_count": 43,
      "outputs": [
        {
          "output_type": "execute_result",
          "data": {
            "text/plain": [
              "<matplotlib.axes._subplots.AxesSubplot at 0x7f05fa528d60>"
            ]
          },
          "metadata": {},
          "execution_count": 43
        },
        {
          "output_type": "display_data",
          "data": {
            "text/plain": [
              "<Figure size 576x396 with 1 Axes>"
            ],
            "image/png": "[encoded data removed]"
          },
          "metadata": {}
        }
      ]
    },
    {
      "cell_type": "code",
      "source": [
        "res[['accuracy', 'val_accuracy']].plot()"
      ],
      "metadata": {
        "colab": {
          "base_uri": "https://localhost:8080/",
          "height": 364
        },
        "id": "h1fkd58eM_43",
        "outputId": "fcf9ab02-6df1-42fc-98a8-5989acdb1248"
      },
      "execution_count": 45,
      "outputs": [
        {
          "output_type": "execute_result",
          "data": {
            "text/plain": [
              "<matplotlib.axes._subplots.AxesSubplot at 0x7f05f9bc39d0>"
            ]
          },
          "metadata": {},
          "execution_count": 45
        },
        {
          "output_type": "display_data",
          "data": {
            "text/plain": [
              "<Figure size 576x396 with 1 Axes>"
            ],
            "image/png": "[encoded data removed]"
          },
          "metadata": {}
        }
      ]
    },
    {
      "cell_type": "code",
      "source": [
        "model.save(\"elderly_fall_detection.h5\")"
      ],
      "metadata": {
        "id": "eS-v15h-Nl-7"
      },
      "execution_count": 46,
      "outputs": []
    }
  ],
  "metadata": {
    "colab": {
      "provenance": [],
      "include_colab_link": true
    },
    "kernelspec": {
      "display_name": "Python 3",
      "name": "python3"
    },
    "language_info": {
      "name": "python"
    }
  },
  "nbformat": 4,
  "nbformat_minor": 0
}