{
  "cells": [
    {
      "cell_type": "markdown",
      "metadata": {
        "id": "view-in-github",
        "colab_type": "text"
      },
      "source": [
        "<a href=\"https://colab.research.google.com/github/janicema0702/cityu-project/blob/main/adam_compiler_elderly_fall_detection_(one_hot_encoding).ipynb\" target=\"_parent\"><img src=\"https://colab.research.google.com/assets/colab-badge.svg\" alt=\"Open In Colab\"/></a>"
      ]
    },
    {
      "cell_type": "code",
      "execution_count": null,
      "metadata": {
        "colab": {
          "base_uri": "https://localhost:8080/"
        },
        "id": "7lplPPCiZoDc",
        "outputId": "3fdf2cd0-6b9f-4be2-a568-3c4e609d4706"
      },
      "outputs": [
        {
          "name": "stdout",
          "output_type": "stream",
          "text": [
            "Num GPUs Available:  0\n",
            "Tensorflow version: 2.9.2\n",
            "Keras version: 2.9.0\n"
          ]
        }
      ],
      "source": [
        "import tensorflow as tf\n",
        "\n",
        "print(\"Num GPUs Available: \", len(tf.config.list_physical_devices('GPU')))\n",
        "print('Tensorflow version:',tf.__version__)\n",
        "import numpy as np\n",
        "import pandas as pd\n",
        "from matplotlib import pyplot as plt\n",
        "from pydrive.auth import GoogleAuth\n",
        "from pydrive.drive import GoogleDrive\n",
        "from google.colab import auth\n",
        "from oauth2client.client import GoogleCredentials\n",
        " \n",
        "\n",
        "import seaborn as sns\n",
        "plt.style.use('seaborn')\n",
        "\n",
        "import os\n",
        "print('Keras version:', tf.keras.__version__)"
      ]
    },
    {
      "cell_type": "code",
      "execution_count": null,
      "metadata": {
        "id": "oLqT8jJbm90O"
      },
      "outputs": [],
      "source": [
        "\n",
        "# Authenticate and create the PyDrive client.\n",
        "auth.authenticate_user()\n",
        "gauth = GoogleAuth()\n",
        "gauth.credentials = GoogleCredentials.get_application_default()\n",
        "drive = GoogleDrive(gauth)"
      ]
    },
    {
      "cell_type": "code",
      "execution_count": null,
      "metadata": {
        "colab": {
          "base_uri": "https://localhost:8080/"
        },
        "id": "Ev0SOO8snLVm",
        "outputId": "b278a58e-ded3-4c58-af1d-750e609ea588"
      },
      "outputs": [
        {
          "name": "stdout",
          "output_type": "stream",
          "text": [
            "         ADXL345_x  ADXL345_y  ADXL345_z  ITG3200_x  ITG3200_y  ITG3200_z  \\\n",
            "0                5       -234        -82         37          4         -7   \n",
            "1                2       -234        -87         35          4         -7   \n",
            "2                6       -234        -84         35          3         -7   \n",
            "3                5       -234        -85         34          4         -8   \n",
            "4                7       -237        -83         34          4         -7   \n",
            "...            ...        ...        ...        ...        ...        ...   \n",
            "2097145        261       -126        -39       -161        104        883   \n",
            "2097146        256       -125        -36       -166        122        894   \n",
            "2097147        251       -127        -37       -177        136        906   \n",
            "2097148        253       -131        -31       -185        142        925   \n",
            "2097149        251       -134        -36       -173        147        944   \n",
            "\n",
            "         MMA8451Q_x  MMA8451Q_y  MMA8451Q_z Situation  \n",
            "0                 9        -959        -319      Fall  \n",
            "1                 8        -964        -319      Fall  \n",
            "2                11        -962        -323      Fall  \n",
            "3                 7        -961        -323      Fall  \n",
            "4                 9        -959        -323      Fall  \n",
            "...             ...         ...         ...       ...  \n",
            "2097145         923        -462           4  Not Fall  \n",
            "2097146         903        -468           9  Not Fall  \n",
            "2097147         892        -466          21  Not Fall  \n",
            "2097148         874        -478          37  Not Fall  \n",
            "2097149         874        -491          20  Not Fall  \n",
            "\n",
            "[2097150 rows x 10 columns]\n"
          ]
        }
      ],
      "source": [
        "\n",
        "link = 'https://drive.google.com/file/d/1Eqhf818E-wUkrxfYnh6spB5XeyehlTwG/view'\n",
        " \n",
        "import pandas as pd\n",
        "from sklearn.tree import DecisionTreeClassifier\n",
        "import numpy as np\n",
        "\n",
        " \n",
        "# to get the id part of the file\n",
        "id = link.split(\"/\")[-2]\n",
        " \n",
        "downloaded = drive.CreateFile({'id':id})\n",
        "downloaded.GetContentFile('SisFall_dataset.csv') \n",
        " \n",
        "df = pd.read_csv('SisFall_dataset.csv')\n",
        "print(df)"
      ]
    },
    {
      "cell_type": "code",
      "execution_count": null,
      "metadata": {
        "colab": {
          "base_uri": "https://localhost:8080/"
        },
        "id": "rIc2piaYkcr-",
        "outputId": "eb2ca9e4-39c3-4cd8-94d8-8e19f93e2d92"
      },
      "outputs": [
        {
          "data": {
            "text/plain": [
              "(2097150, 10)"
            ]
          },
          "execution_count": 5,
          "metadata": {},
          "output_type": "execute_result"
        }
      ],
      "source": [
        "df.shape"
      ]
    },
    {
      "cell_type": "code",
      "execution_count": null,
      "metadata": {
        "colab": {
          "base_uri": "https://localhost:8080/",
          "height": 300
        },
        "id": "F_sytJeeoTo3",
        "outputId": "b6c705c3-c1ab-4ded-a115-262ef9951731"
      },
      "outputs": [
        {
          "data": {
            "text/html": [
              "\n",
              "  <div id=\"df-5e190bb2-adc2-4669-92b9-0d79c67774e6\">\n",
              "    <div class=\"colab-df-container\">\n",
              "      <div>\n",
              "<style scoped>\n",
              "    .dataframe tbody tr th:only-of-type {\n",
              "        vertical-align: middle;\n",
              "    }\n",
              "\n",
              "    .dataframe tbody tr th {\n",
              "        vertical-align: top;\n",
              "    }\n",
              "\n",
              "    .dataframe thead th {\n",
              "        text-align: right;\n",
              "    }\n",
              "</style>\n",
              "<table border=\"1\" class=\"dataframe\">\n",
              "  <thead>\n",
              "    <tr style=\"text-align: right;\">\n",
              "      <th></th>\n",
              "      <th>ADXL345_x</th>\n",
              "      <th>ADXL345_y</th>\n",
              "      <th>ADXL345_z</th>\n",
              "      <th>ITG3200_x</th>\n",
              "      <th>ITG3200_y</th>\n",
              "      <th>ITG3200_z</th>\n",
              "      <th>MMA8451Q_x</th>\n",
              "      <th>MMA8451Q_y</th>\n",
              "      <th>MMA8451Q_z</th>\n",
              "    </tr>\n",
              "  </thead>\n",
              "  <tbody>\n",
              "    <tr>\n",
              "      <th>count</th>\n",
              "      <td>2.097150e+06</td>\n",
              "      <td>2.097150e+06</td>\n",
              "      <td>2.097150e+06</td>\n",
              "      <td>2.097150e+06</td>\n",
              "      <td>2.097150e+06</td>\n",
              "      <td>2.097150e+06</td>\n",
              "      <td>2.097150e+06</td>\n",
              "      <td>2.097150e+06</td>\n",
              "      <td>2.097150e+06</td>\n",
              "    </tr>\n",
              "    <tr>\n",
              "      <th>mean</th>\n",
              "      <td>3.646227e+00</td>\n",
              "      <td>-1.685828e+02</td>\n",
              "      <td>-2.507207e+01</td>\n",
              "      <td>-1.834779e+01</td>\n",
              "      <td>2.309094e+01</td>\n",
              "      <td>-3.905765e+00</td>\n",
              "      <td>-3.491114e+01</td>\n",
              "      <td>-6.590775e+02</td>\n",
              "      <td>3.627351e-01</td>\n",
              "    </tr>\n",
              "    <tr>\n",
              "      <th>std</th>\n",
              "      <td>1.110372e+02</td>\n",
              "      <td>1.561922e+02</td>\n",
              "      <td>1.316931e+02</td>\n",
              "      <td>5.462312e+02</td>\n",
              "      <td>5.085745e+02</td>\n",
              "      <td>4.069697e+02</td>\n",
              "      <td>4.345957e+02</td>\n",
              "      <td>6.095223e+02</td>\n",
              "      <td>5.229338e+02</td>\n",
              "    </tr>\n",
              "    <tr>\n",
              "      <th>min</th>\n",
              "      <td>-4.053000e+03</td>\n",
              "      <td>-2.852000e+03</td>\n",
              "      <td>-4.096000e+03</td>\n",
              "      <td>-3.230300e+04</td>\n",
              "      <td>-1.549100e+04</td>\n",
              "      <td>-1.092600e+04</td>\n",
              "      <td>-8.192000e+03</td>\n",
              "      <td>-8.192000e+03</td>\n",
              "      <td>-8.192000e+03</td>\n",
              "    </tr>\n",
              "    <tr>\n",
              "      <th>25%</th>\n",
              "      <td>-1.700000e+01</td>\n",
              "      <td>-2.560000e+02</td>\n",
              "      <td>-1.020000e+02</td>\n",
              "      <td>-7.300000e+01</td>\n",
              "      <td>-1.900000e+01</td>\n",
              "      <td>-2.400000e+01</td>\n",
              "      <td>-1.090000e+02</td>\n",
              "      <td>-9.960000e+02</td>\n",
              "      <td>-2.760000e+02</td>\n",
              "    </tr>\n",
              "    <tr>\n",
              "      <th>50%</th>\n",
              "      <td>1.000000e+01</td>\n",
              "      <td>-2.230000e+02</td>\n",
              "      <td>-3.300000e+01</td>\n",
              "      <td>-2.800000e+01</td>\n",
              "      <td>1.500000e+01</td>\n",
              "      <td>-7.000000e+00</td>\n",
              "      <td>-1.000000e+00</td>\n",
              "      <td>-8.850000e+02</td>\n",
              "      <td>-2.600000e+01</td>\n",
              "    </tr>\n",
              "    <tr>\n",
              "      <th>75%</th>\n",
              "      <td>3.400000e+01</td>\n",
              "      <td>-3.000000e+01</td>\n",
              "      <td>4.600000e+01</td>\n",
              "      <td>5.900000e+01</td>\n",
              "      <td>5.800000e+01</td>\n",
              "      <td>1.200000e+01</td>\n",
              "      <td>7.800000e+01</td>\n",
              "      <td>-1.120000e+02</td>\n",
              "      <td>2.840000e+02</td>\n",
              "    </tr>\n",
              "    <tr>\n",
              "      <th>max</th>\n",
              "      <td>4.094000e+03</td>\n",
              "      <td>4.092000e+03</td>\n",
              "      <td>4.091000e+03</td>\n",
              "      <td>3.276700e+04</td>\n",
              "      <td>1.581900e+04</td>\n",
              "      <td>1.249100e+04</td>\n",
              "      <td>8.191000e+03</td>\n",
              "      <td>8.191000e+03</td>\n",
              "      <td>8.191000e+03</td>\n",
              "    </tr>\n",
              "  </tbody>\n",
              "</table>\n",
              "</div>\n",
              "      <button class=\"colab-df-convert\" onclick=\"convertToInteractive('df-5e190bb2-adc2-4669-92b9-0d79c67774e6')\"\n",
              "              title=\"Convert this dataframe to an interactive table.\"\n",
              "              style=\"display:none;\">\n",
              "        \n",
              "  <svg xmlns=\"http://www.w3.org/2000/svg\" height=\"24px\"viewBox=\"0 0 24 24\"\n",
              "       width=\"24px\">\n",
              "    <path d=\"M0 0h24v24H0V0z\" fill=\"none\"/>\n",
              "    <path d=\"M18.56 5.44l.94 2.06.94-2.06 2.06-.94-2.06-.94-.94-2.06-.94 2.06-2.06.94zm-11 1L8.5 8.5l.94-2.06 2.06-.94-2.06-.94L8.5 2.5l-.94 2.06-2.06.94zm10 10l.94 2.06.94-2.06 2.06-.94-2.06-.94-.94-2.06-.94 2.06-2.06.94z\"/><path d=\"M17.41 7.96l-1.37-1.37c-.4-.4-.92-.59-1.43-.59-.52 0-1.04.2-1.43.59L10.3 9.45l-7.72 7.72c-.78.78-.78 2.05 0 2.83L4 21.41c.39.39.9.59 1.41.59.51 0 1.02-.2 1.41-.59l7.78-7.78 2.81-2.81c.8-.78.8-2.07 0-2.86zM5.41 20L4 18.59l7.72-7.72 1.47 1.35L5.41 20z\"/>\n",
              "  </svg>\n",
              "      </button>\n",
              "      \n",
              "  <style>\n",
              "    .colab-df-container {\n",
              "      display:flex;\n",
              "      flex-wrap:wrap;\n",
              "      gap: 12px;\n",
              "    }\n",
              "\n",
              "    .colab-df-convert {\n",
              "      background-color: #E8F0FE;\n",
              "      border: none;\n",
              "      border-radius: 50%;\n",
              "      cursor: pointer;\n",
              "      display: none;\n",
              "      fill: #1967D2;\n",
              "      height: 32px;\n",
              "      padding: 0 0 0 0;\n",
              "      width: 32px;\n",
              "    }\n",
              "\n",
              "    .colab-df-convert:hover {\n",
              "      background-color: #E2EBFA;\n",
              "      box-shadow: 0px 1px 2px rgba(60, 64, 67, 0.3), 0px 1px 3px 1px rgba(60, 64, 67, 0.15);\n",
              "      fill: #174EA6;\n",
              "    }\n",
              "\n",
              "    [theme=dark] .colab-df-convert {\n",
              "      background-color: #3B4455;\n",
              "      fill: #D2E3FC;\n",
              "    }\n",
              "\n",
              "    [theme=dark] .colab-df-convert:hover {\n",
              "      background-color: #434B5C;\n",
              "      box-shadow: 0px 1px 3px 1px rgba(0, 0, 0, 0.15);\n",
              "      filter: drop-shadow(0px 1px 2px rgba(0, 0, 0, 0.3));\n",
              "      fill: #FFFFFF;\n",
              "    }\n",
              "  </style>\n",
              "\n",
              "      <script>\n",
              "        const buttonEl =\n",
              "          document.querySelector('#df-5e190bb2-adc2-4669-92b9-0d79c67774e6 button.colab-df-convert');\n",
              "        buttonEl.style.display =\n",
              "          google.colab.kernel.accessAllowed ? 'block' : 'none';\n",
              "\n",
              "        async function convertToInteractive(key) {\n",
              "          const element = document.querySelector('#df-5e190bb2-adc2-4669-92b9-0d79c67774e6');\n",
              "          const dataTable =\n",
              "            await google.colab.kernel.invokeFunction('convertToInteractive',\n",
              "                                                     [key], {});\n",
              "          if (!dataTable) return;\n",
              "\n",
              "          const docLinkHtml = 'Like what you see? Visit the ' +\n",
              "            '<a target=\"_blank\" href=https://colab.research.google.com/notebooks/data_table.ipynb>data table notebook</a>'\n",
              "            + ' to learn more about interactive tables.';\n",
              "          element.innerHTML = '';\n",
              "          dataTable['output_type'] = 'display_data';\n",
              "          await google.colab.output.renderOutput(dataTable, element);\n",
              "          const docLink = document.createElement('div');\n",
              "          docLink.innerHTML = docLinkHtml;\n",
              "          element.appendChild(docLink);\n",
              "        }\n",
              "      </script>\n",
              "    </div>\n",
              "  </div>\n",
              "  "
            ],
            "text/plain": [
              "          ADXL345_x     ADXL345_y     ADXL345_z     ITG3200_x     ITG3200_y  \\\n",
              "count  2.097150e+06  2.097150e+06  2.097150e+06  2.097150e+06  2.097150e+06   \n",
              "mean   3.646227e+00 -1.685828e+02 -2.507207e+01 -1.834779e+01  2.309094e+01   \n",
              "std    1.110372e+02  1.561922e+02  1.316931e+02  5.462312e+02  5.085745e+02   \n",
              "min   -4.053000e+03 -2.852000e+03 -4.096000e+03 -3.230300e+04 -1.549100e+04   \n",
              "25%   -1.700000e+01 -2.560000e+02 -1.020000e+02 -7.300000e+01 -1.900000e+01   \n",
              "50%    1.000000e+01 -2.230000e+02 -3.300000e+01 -2.800000e+01  1.500000e+01   \n",
              "75%    3.400000e+01 -3.000000e+01  4.600000e+01  5.900000e+01  5.800000e+01   \n",
              "max    4.094000e+03  4.092000e+03  4.091000e+03  3.276700e+04  1.581900e+04   \n",
              "\n",
              "          ITG3200_z    MMA8451Q_x    MMA8451Q_y    MMA8451Q_z  \n",
              "count  2.097150e+06  2.097150e+06  2.097150e+06  2.097150e+06  \n",
              "mean  -3.905765e+00 -3.491114e+01 -6.590775e+02  3.627351e-01  \n",
              "std    4.069697e+02  4.345957e+02  6.095223e+02  5.229338e+02  \n",
              "min   -1.092600e+04 -8.192000e+03 -8.192000e+03 -8.192000e+03  \n",
              "25%   -2.400000e+01 -1.090000e+02 -9.960000e+02 -2.760000e+02  \n",
              "50%   -7.000000e+00 -1.000000e+00 -8.850000e+02 -2.600000e+01  \n",
              "75%    1.200000e+01  7.800000e+01 -1.120000e+02  2.840000e+02  \n",
              "max    1.249100e+04  8.191000e+03  8.191000e+03  8.191000e+03  "
            ]
          },
          "execution_count": 6,
          "metadata": {},
          "output_type": "execute_result"
        }
      ],
      "source": [
        "df.describe()"
      ]
    },
    {
      "cell_type": "code",
      "execution_count": null,
      "metadata": {
        "id": "SQ0lG1pssrvB"
      },
      "outputs": [],
      "source": [
        "from sklearn.model_selection import train_test_split\n",
        "from sklearn.metrics import accuracy_score\n",
        "from sklearn import tree"
      ]
    },
    {
      "cell_type": "code",
      "execution_count": null,
      "metadata": {
        "colab": {
          "base_uri": "https://localhost:8080/",
          "height": 423
        },
        "id": "ZPvFEl2hpXrP",
        "outputId": "0093add6-8dbc-4a42-c42f-608f47b1f75f"
      },
      "outputs": [
        {
          "data": {
            "text/html": [
              "\n",
              "  <div id=\"df-7846c1a9-210f-4f9c-b6f3-9417a3206f7a\">\n",
              "    <div class=\"colab-df-container\">\n",
              "      <div>\n",
              "<style scoped>\n",
              "    .dataframe tbody tr th:only-of-type {\n",
              "        vertical-align: middle;\n",
              "    }\n",
              "\n",
              "    .dataframe tbody tr th {\n",
              "        vertical-align: top;\n",
              "    }\n",
              "\n",
              "    .dataframe thead th {\n",
              "        text-align: right;\n",
              "    }\n",
              "</style>\n",
              "<table border=\"1\" class=\"dataframe\">\n",
              "  <thead>\n",
              "    <tr style=\"text-align: right;\">\n",
              "      <th></th>\n",
              "      <th>ADXL345_x</th>\n",
              "      <th>ADXL345_y</th>\n",
              "      <th>ADXL345_z</th>\n",
              "      <th>ITG3200_x</th>\n",
              "      <th>ITG3200_y</th>\n",
              "      <th>ITG3200_z</th>\n",
              "    </tr>\n",
              "  </thead>\n",
              "  <tbody>\n",
              "    <tr>\n",
              "      <th>0</th>\n",
              "      <td>5</td>\n",
              "      <td>-234</td>\n",
              "      <td>-82</td>\n",
              "      <td>37</td>\n",
              "      <td>4</td>\n",
              "      <td>-7</td>\n",
              "    </tr>\n",
              "    <tr>\n",
              "      <th>1</th>\n",
              "      <td>2</td>\n",
              "      <td>-234</td>\n",
              "      <td>-87</td>\n",
              "      <td>35</td>\n",
              "      <td>4</td>\n",
              "      <td>-7</td>\n",
              "    </tr>\n",
              "    <tr>\n",
              "      <th>2</th>\n",
              "      <td>6</td>\n",
              "      <td>-234</td>\n",
              "      <td>-84</td>\n",
              "      <td>35</td>\n",
              "      <td>3</td>\n",
              "      <td>-7</td>\n",
              "    </tr>\n",
              "    <tr>\n",
              "      <th>3</th>\n",
              "      <td>5</td>\n",
              "      <td>-234</td>\n",
              "      <td>-85</td>\n",
              "      <td>34</td>\n",
              "      <td>4</td>\n",
              "      <td>-8</td>\n",
              "    </tr>\n",
              "    <tr>\n",
              "      <th>4</th>\n",
              "      <td>7</td>\n",
              "      <td>-237</td>\n",
              "      <td>-83</td>\n",
              "      <td>34</td>\n",
              "      <td>4</td>\n",
              "      <td>-7</td>\n",
              "    </tr>\n",
              "    <tr>\n",
              "      <th>...</th>\n",
              "      <td>...</td>\n",
              "      <td>...</td>\n",
              "      <td>...</td>\n",
              "      <td>...</td>\n",
              "      <td>...</td>\n",
              "      <td>...</td>\n",
              "    </tr>\n",
              "    <tr>\n",
              "      <th>2097145</th>\n",
              "      <td>261</td>\n",
              "      <td>-126</td>\n",
              "      <td>-39</td>\n",
              "      <td>-161</td>\n",
              "      <td>104</td>\n",
              "      <td>883</td>\n",
              "    </tr>\n",
              "    <tr>\n",
              "      <th>2097146</th>\n",
              "      <td>256</td>\n",
              "      <td>-125</td>\n",
              "      <td>-36</td>\n",
              "      <td>-166</td>\n",
              "      <td>122</td>\n",
              "      <td>894</td>\n",
              "    </tr>\n",
              "    <tr>\n",
              "      <th>2097147</th>\n",
              "      <td>251</td>\n",
              "      <td>-127</td>\n",
              "      <td>-37</td>\n",
              "      <td>-177</td>\n",
              "      <td>136</td>\n",
              "      <td>906</td>\n",
              "    </tr>\n",
              "    <tr>\n",
              "      <th>2097148</th>\n",
              "      <td>253</td>\n",
              "      <td>-131</td>\n",
              "      <td>-31</td>\n",
              "      <td>-185</td>\n",
              "      <td>142</td>\n",
              "      <td>925</td>\n",
              "    </tr>\n",
              "    <tr>\n",
              "      <th>2097149</th>\n",
              "      <td>251</td>\n",
              "      <td>-134</td>\n",
              "      <td>-36</td>\n",
              "      <td>-173</td>\n",
              "      <td>147</td>\n",
              "      <td>944</td>\n",
              "    </tr>\n",
              "  </tbody>\n",
              "</table>\n",
              "<p>2097150 rows × 6 columns</p>\n",
              "</div>\n",
              "      <button class=\"colab-df-convert\" onclick=\"convertToInteractive('df-7846c1a9-210f-4f9c-b6f3-9417a3206f7a')\"\n",
              "              title=\"Convert this dataframe to an interactive table.\"\n",
              "              style=\"display:none;\">\n",
              "        \n",
              "  <svg xmlns=\"http://www.w3.org/2000/svg\" height=\"24px\"viewBox=\"0 0 24 24\"\n",
              "       width=\"24px\">\n",
              "    <path d=\"M0 0h24v24H0V0z\" fill=\"none\"/>\n",
              "    <path d=\"M18.56 5.44l.94 2.06.94-2.06 2.06-.94-2.06-.94-.94-2.06-.94 2.06-2.06.94zm-11 1L8.5 8.5l.94-2.06 2.06-.94-2.06-.94L8.5 2.5l-.94 2.06-2.06.94zm10 10l.94 2.06.94-2.06 2.06-.94-2.06-.94-.94-2.06-.94 2.06-2.06.94z\"/><path d=\"M17.41 7.96l-1.37-1.37c-.4-.4-.92-.59-1.43-.59-.52 0-1.04.2-1.43.59L10.3 9.45l-7.72 7.72c-.78.78-.78 2.05 0 2.83L4 21.41c.39.39.9.59 1.41.59.51 0 1.02-.2 1.41-.59l7.78-7.78 2.81-2.81c.8-.78.8-2.07 0-2.86zM5.41 20L4 18.59l7.72-7.72 1.47 1.35L5.41 20z\"/>\n",
              "  </svg>\n",
              "      </button>\n",
              "      \n",
              "  <style>\n",
              "    .colab-df-container {\n",
              "      display:flex;\n",
              "      flex-wrap:wrap;\n",
              "      gap: 12px;\n",
              "    }\n",
              "\n",
              "    .colab-df-convert {\n",
              "      background-color: #E8F0FE;\n",
              "      border: none;\n",
              "      border-radius: 50%;\n",
              "      cursor: pointer;\n",
              "      display: none;\n",
              "      fill: #1967D2;\n",
              "      height: 32px;\n",
              "      padding: 0 0 0 0;\n",
              "      width: 32px;\n",
              "    }\n",
              "\n",
              "    .colab-df-convert:hover {\n",
              "      background-color: #E2EBFA;\n",
              "      box-shadow: 0px 1px 2px rgba(60, 64, 67, 0.3), 0px 1px 3px 1px rgba(60, 64, 67, 0.15);\n",
              "      fill: #174EA6;\n",
              "    }\n",
              "\n",
              "    [theme=dark] .colab-df-convert {\n",
              "      background-color: #3B4455;\n",
              "      fill: #D2E3FC;\n",
              "    }\n",
              "\n",
              "    [theme=dark] .colab-df-convert:hover {\n",
              "      background-color: #434B5C;\n",
              "      box-shadow: 0px 1px 3px 1px rgba(0, 0, 0, 0.15);\n",
              "      filter: drop-shadow(0px 1px 2px rgba(0, 0, 0, 0.3));\n",
              "      fill: #FFFFFF;\n",
              "    }\n",
              "  </style>\n",
              "\n",
              "      <script>\n",
              "        const buttonEl =\n",
              "          document.querySelector('#df-7846c1a9-210f-4f9c-b6f3-9417a3206f7a button.colab-df-convert');\n",
              "        buttonEl.style.display =\n",
              "          google.colab.kernel.accessAllowed ? 'block' : 'none';\n",
              "\n",
              "        async function convertToInteractive(key) {\n",
              "          const element = document.querySelector('#df-7846c1a9-210f-4f9c-b6f3-9417a3206f7a');\n",
              "          const dataTable =\n",
              "            await google.colab.kernel.invokeFunction('convertToInteractive',\n",
              "                                                     [key], {});\n",
              "          if (!dataTable) return;\n",
              "\n",
              "          const docLinkHtml = 'Like what you see? Visit the ' +\n",
              "            '<a target=\"_blank\" href=https://colab.research.google.com/notebooks/data_table.ipynb>data table notebook</a>'\n",
              "            + ' to learn more about interactive tables.';\n",
              "          element.innerHTML = '';\n",
              "          dataTable['output_type'] = 'display_data';\n",
              "          await google.colab.output.renderOutput(dataTable, element);\n",
              "          const docLink = document.createElement('div');\n",
              "          docLink.innerHTML = docLinkHtml;\n",
              "          element.appendChild(docLink);\n",
              "        }\n",
              "      </script>\n",
              "    </div>\n",
              "  </div>\n",
              "  "
            ],
            "text/plain": [
              "         ADXL345_x  ADXL345_y  ADXL345_z  ITG3200_x  ITG3200_y  ITG3200_z\n",
              "0                5       -234        -82         37          4         -7\n",
              "1                2       -234        -87         35          4         -7\n",
              "2                6       -234        -84         35          3         -7\n",
              "3                5       -234        -85         34          4         -8\n",
              "4                7       -237        -83         34          4         -7\n",
              "...            ...        ...        ...        ...        ...        ...\n",
              "2097145        261       -126        -39       -161        104        883\n",
              "2097146        256       -125        -36       -166        122        894\n",
              "2097147        251       -127        -37       -177        136        906\n",
              "2097148        253       -131        -31       -185        142        925\n",
              "2097149        251       -134        -36       -173        147        944\n",
              "\n",
              "[2097150 rows x 6 columns]"
            ]
          },
          "execution_count": 8,
          "metadata": {},
          "output_type": "execute_result"
        }
      ],
      "source": [
        "inputset = df.drop(columns=['MMA8451Q_x','MMA8451Q_y','MMA8451Q_z','Situation'])\n",
        "inputset = inputset\n",
        "inputset"
      ]
    },
    {
      "cell_type": "code",
      "execution_count": null,
      "metadata": {
        "id": "-aeA-Dm3rCb_"
      },
      "outputs": [],
      "source": [
        "oldoutputset = df['Situation']\n",
        "outputset =[]\n",
        "for i in oldoutputset:\n",
        "  if i == 'Fall':\n",
        "      outputset.append([1])\n",
        "  else:\n",
        "      outputset.append([0])\n",
        "\n",
        "\n",
        "outputset = outputset\n",
        "outputset"
      ]
    },
    {
      "cell_type": "code",
      "execution_count": null,
      "metadata": {
        "colab": {
          "base_uri": "https://localhost:8080/",
          "height": 53
        },
        "id": "HsjZdxu1rHLg",
        "outputId": "a03c48f8-6e9f-49a7-a7bd-9406fe4b0d01"
      },
      "outputs": [
        {
          "data": {
            "application/vnd.google.colaboratory.intrinsic+json": {
              "type": "string"
            },
            "text/plain": [
              "\"tree.export_graphviz(model, out_file = 'determine.dot',\\n                    feature_names = ['x','y','z'],\\n                    class_names = ['fall', 'safe'],\\n                    label='all',\\n                    rounded = True,\\n                    filled = True)\""
            ]
          },
          "execution_count": 10,
          "metadata": {},
          "output_type": "execute_result"
        }
      ],
      "source": [
        "inputset_train, inputset_test, outputset_train, outputset_test = train_test_split(inputset, outputset, test_size = 0.15)\n",
        "\n",
        "\n",
        "#model = DecisionTreeClassifier()\n",
        "#model.fit(inputset_train, outputset_train)\n",
        "\n",
        "'''tree.export_graphviz(model, out_file = 'determine.dot',\n",
        "                    feature_names = ['x','y','z'],\n",
        "                    class_names = ['fall', 'safe'],\n",
        "                    label='all',\n",
        "                    rounded = True,\n",
        "                    filled = True)'''\n",
        "\n"
      ]
    },
    {
      "cell_type": "code",
      "execution_count": null,
      "metadata": {
        "colab": {
          "base_uri": "https://localhost:8080/"
        },
        "id": "_6zZNnXTR9y3",
        "outputId": "ad8e0ec2-9aef-4db8-9abf-8c34cf25e428"
      },
      "outputs": [
        {
          "data": {
            "text/plain": [
              "((1782577, 6), (1782577, 1))"
            ]
          },
          "execution_count": 11,
          "metadata": {},
          "output_type": "execute_result"
        }
      ],
      "source": [
        "inputset_train = np.array(inputset_train)\n",
        "outputset_train = np.array(outputset_train)\n",
        "inputset_train.shape, outputset_train .shape"
      ]
    },
    {
      "cell_type": "code",
      "execution_count": null,
      "metadata": {
        "id": "4fXbezlBqbkE"
      },
      "outputs": [],
      "source": [
        "from tensorflow import keras\n",
        "from tensorflow.keras import layers"
      ]
    },
    {
      "cell_type": "code",
      "execution_count": null,
      "metadata": {
        "id": "BSvMV_kQqt17"
      },
      "outputs": [],
      "source": [
        "from tensorflow.python.ops.gen_batch_ops import batch\n",
        "from tensorflow.keras.callbacks import EarlyStopping\n",
        "\n",
        "batch_size = 128\n",
        "epochs = 100\n",
        "\n",
        "#Early Stopping callback function\n",
        "es = EarlyStopping(\n",
        "    monitor = 'val_accuracy',\n",
        "    min_delta = 0,\n",
        "    patience = 5,\n",
        "    verbose = 1,\n",
        "    mode = 'max',\n",
        "    restore_best_weights = True\n",
        ")"
      ]
    },
    {
      "cell_type": "code",
      "execution_count": null,
      "metadata": {
        "id": "Sci8E0Egko6v"
      },
      "outputs": [],
      "source": [
        "num_classes = 2\n",
        "train_one_hot = tf.keras.utils.to_categorical(outputset_train, num_classes)\n",
        "test_one_hot = tf.keras.utils.to_categorical(outputset_test, num_classes)"
      ]
    },
    {
      "cell_type": "code",
      "execution_count": null,
      "metadata": {
        "id": "uW99VPsOmMKO"
      },
      "outputs": [],
      "source": [
        "from tensorflow import keras"
      ]
    },
    {
      "cell_type": "code",
      "execution_count": null,
      "metadata": {
        "id": "FGUk7pOLjsSi"
      },
      "outputs": [],
      "source": [
        "import tensorflow\n",
        "from tensorflow.keras.layers import * \n",
        "from tensorflow.keras.models import Model\n",
        "from tensorflow.keras import regularizers\n",
        "\n",
        "inputshape = [6]\n",
        "\n",
        "inputs = tensorflow.keras.Input(shape=inputshape)\n",
        "x = Dense(units = 100, activation = 'relu')(inputs)\n",
        "x = Dropout(0.2)(x)\n",
        "x = Dense(64, activation = 'relu', kernel_regularizer = regularizers.l2(0.1))(x)\n",
        "output = Dense(units = num_classes, activation = 'softmax')(x)\n",
        "\n"
      ]
    },
    {
      "cell_type": "code",
      "execution_count": null,
      "metadata": {
        "id": "z37IiLOchrB2"
      },
      "outputs": [],
      "source": [
        "model = tf.keras.Model(\n",
        "    inputs = inputs, outputs = output,\n",
        "    name = 'dnn_fall_model'\n",
        ")"
      ]
    },
    {
      "cell_type": "code",
      "execution_count": null,
      "metadata": {
        "colab": {
          "base_uri": "https://localhost:8080/"
        },
        "id": "BOCj6pkpijas",
        "outputId": "ec13844c-00bb-458a-d734-a848d3be7185"
      },
      "outputs": [
        {
          "name": "stdout",
          "output_type": "stream",
          "text": [
            "Model: \"dnn_fall_model\"\n",
            "_________________________________________________________________\n",
            " Layer (type)                Output Shape              Param #   \n",
            "=================================================================\n",
            " input_1 (InputLayer)        [(None, 6)]               0         \n",
            "                                                                 \n",
            " dense (Dense)               (None, 100)               700       \n",
            "                                                                 \n",
            " dropout (Dropout)           (None, 100)               0         \n",
            "                                                                 \n",
            " dense_1 (Dense)             (None, 64)                6464      \n",
            "                                                                 \n",
            " dense_2 (Dense)             (None, 2)                 130       \n",
            "                                                                 \n",
            "=================================================================\n",
            "Total params: 7,294\n",
            "Trainable params: 7,294\n",
            "Non-trainable params: 0\n",
            "_________________________________________________________________\n"
          ]
        }
      ],
      "source": [
        "optimizer = tf.keras.optimizers.Adam(\n",
        "    learning_rate = 0.001,\n",
        "    beta_1 = 0.9,\n",
        "    beta_2 = 0.999,\n",
        "    epsilon = 1e-07,\n",
        "    name = 'Adam'\n",
        "\n",
        ")\n",
        "\n",
        "model.compile(\n",
        "    loss = 'categorical_crossentropy',\n",
        "    optimizer = optimizer,\n",
        "    metrics = ['accuracy'],\n",
        "\n",
        ")\n",
        "\n",
        "model.summary()"
      ]
    },
    {
      "cell_type": "code",
      "execution_count": null,
      "metadata": {
        "colab": {
          "base_uri": "https://localhost:8080/",
          "height": 533
        },
        "id": "AAMgxFpQpCji",
        "outputId": "8f4d5da9-0f8b-4686-c948-4e6c3349d403"
      },
      "outputs": [
        {
          "data": {
            "image/png": "[encoded data removed]",
            "text/plain": [
              "<IPython.core.display.Image object>"
            ]
          },
          "execution_count": 19,
          "metadata": {},
          "output_type": "execute_result"
        }
      ],
      "source": [
        "tf.keras.utils.plot_model(model, 'dnn_model.png', show_shapes = True)"
      ]
    },
    {
      "cell_type": "code",
      "execution_count": null,
      "metadata": {
        "id": "lK2eCypVaItN"
      },
      "outputs": [],
      "source": [
        "from tensorflow.python.ops.gen_batch_ops import batch\n",
        "from tensorflow.keras.callbacks import EarlyStopping\n",
        "\n",
        "batch_size = 128\n",
        "epochs = 100\n",
        "\n",
        "#Early Stopping callback function\n",
        "es = EarlyStopping(\n",
        "    monitor = 'val_accuracy',\n",
        "    min_delta = 0,\n",
        "    patience = 5,\n",
        "    verbose = 1,\n",
        "    mode = 'max',\n",
        "    restore_best_weights = True\n",
        ")"
      ]
    },
    {
      "cell_type": "code",
      "execution_count": null,
      "metadata": {
        "colab": {
          "background_save": true,
          "base_uri": "https://localhost:8080/"
        },
        "id": "-jfBognjqjIY",
        "outputId": "e9faac45-4029-4ba4-a270-02db0082eaff"
      },
      "outputs": [
        {
          "name": "stdout",
          "output_type": "stream",
          "text": [
            "Epoch 1/100\n",
            "9749/9749 [==============================] - 38s 4ms/step - loss: 0.4895 - accuracy: 0.7601 - val_loss: 0.4785 - val_accuracy: 0.7657\n",
            "Epoch 2/100\n",
            "9749/9749 [==============================] - 40s 4ms/step - loss: 0.4898 - accuracy: 0.7603 - val_loss: 0.4729 - val_accuracy: 0.7677\n",
            "Epoch 3/100\n",
            "9749/9749 [==============================] - 39s 4ms/step - loss: 0.4888 - accuracy: 0.7607 - val_loss: 0.4737 - val_accuracy: 0.7690\n",
            "Epoch 4/100\n",
            "9749/9749 [==============================] - 35s 4ms/step - loss: 0.4893 - accuracy: 0.7609 - val_loss: 0.4803 - val_accuracy: 0.7638\n",
            "Epoch 5/100\n",
            "9749/9749 [==============================] - 40s 4ms/step - loss: 0.4886 - accuracy: 0.7605 - val_loss: 0.4846 - val_accuracy: 0.7631\n",
            "Epoch 6/100\n",
            "9749/9749 [==============================] - 41s 4ms/step - loss: 0.4880 - accuracy: 0.7606 - val_loss: 0.4742 - val_accuracy: 0.7663\n",
            "Epoch 7/100\n",
            "9749/9749 [==============================] - 35s 4ms/step - loss: 0.4877 - accuracy: 0.7609 - val_loss: 0.4757 - val_accuracy: 0.7700\n",
            "Epoch 8/100\n",
            "9749/9749 [==============================] - 39s 4ms/step - loss: 0.4878 - accuracy: 0.7607 - val_loss: 0.4768 - val_accuracy: 0.7658\n",
            "Epoch 9/100\n",
            "9749/9749 [==============================] - 36s 4ms/step - loss: 0.4884 - accuracy: 0.7607 - val_loss: 0.4752 - val_accuracy: 0.7682\n",
            "Epoch 10/100\n",
            "9749/9749 [==============================] - 41s 4ms/step - loss: 0.4877 - accuracy: 0.7610 - val_loss: 0.4765 - val_accuracy: 0.7638\n",
            "Epoch 11/100\n",
            "9749/9749 [==============================] - 36s 4ms/step - loss: 0.4885 - accuracy: 0.7610 - val_loss: 0.4786 - val_accuracy: 0.7672\n",
            "Epoch 12/100\n",
            "9749/9749 [==============================] - ETA: 0s - loss: 0.4881 - accuracy: 0.7609Restoring model weights from the end of the best epoch: 7.\n",
            "9749/9749 [==============================] - 39s 4ms/step - loss: 0.4881 - accuracy: 0.7609 - val_loss: 0.4726 - val_accuracy: 0.7648\n",
            "Epoch 12: early stopping\n"
          ]
        }
      ],
      "source": [
        "history = model.fit( inputset_train, train_one_hot, epochs = epochs, batch_size = batch_size, \n",
        "                    validation_split = 0.3, callbacks = [es])"
      ]
    },
    {
      "cell_type": "code",
      "execution_count": null,
      "metadata": {
        "id": "NfoYdLTX2sXC"
      },
      "outputs": [],
      "source": [
        "history.history"
      ]
    },
    {
      "cell_type": "code",
      "execution_count": null,
      "metadata": {
        "colab": {
          "base_uri": "https://localhost:8080/"
        },
        "id": "ZzHhGJgmRAF9",
        "outputId": "3afb49e7-188f-4623-c40a-48d7a596f2cf"
      },
      "outputs": [
        {
          "name": "stdout",
          "output_type": "stream",
          "text": [
            "9831/9831 [==============================] - 14s 1ms/step - loss: 0.4747 - accuracy: 0.7711\n",
            "loss:  0.4747\n",
            "accuracy:  0.7711\n"
          ]
        }
      ],
      "source": [
        "scores = model.evaluate(inputset_test, test_one_hot, verbose = 1)\n",
        "names = model.metrics_names\n",
        "\n",
        "for i in range(len(scores)):\n",
        "  print(f'{names[i]}: {scores[i]: .4f}')"
      ]
    }
  ],
  "metadata": {
    "colab": {
      "provenance": [],
      "include_colab_link": true
    },
    "kernelspec": {
      "display_name": "Python 3",
      "name": "python3"
    },
    "language_info": {
      "name": "python"
    }
  },
  "nbformat": 4,
  "nbformat_minor": 0
}